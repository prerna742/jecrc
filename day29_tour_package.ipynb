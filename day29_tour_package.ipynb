{
 "cells": [
  {
   "cell_type": "code",
   "execution_count": 1,
   "metadata": {},
   "outputs": [],
   "source": [
    "import pandas as pd \n",
    "import numpy as np\n",
    "import matplotlib.pyplot as plt\n",
    "import seaborn as sns\n",
    "import  warnings\n",
    "warnings.filterwarnings('ignore')\n",
    "\n",
    "sns.set_style('whitegrid')"
   ]
  },
  {
   "cell_type": "code",
   "execution_count": 2,
   "metadata": {},
   "outputs": [],
   "source": [
    "df = pd.read_csv('tour_package.csv').drop('CustomerID',axis=1)"
   ]
  },
  {
   "cell_type": "code",
   "execution_count": 3,
   "metadata": {},
   "outputs": [
    {
     "data": {
      "text/html": [
       "<div>\n",
       "<style scoped>\n",
       "    .dataframe tbody tr th:only-of-type {\n",
       "        vertical-align: middle;\n",
       "    }\n",
       "\n",
       "    .dataframe tbody tr th {\n",
       "        vertical-align: top;\n",
       "    }\n",
       "\n",
       "    .dataframe thead th {\n",
       "        text-align: right;\n",
       "    }\n",
       "</style>\n",
       "<table border=\"1\" class=\"dataframe\">\n",
       "  <thead>\n",
       "    <tr style=\"text-align: right;\">\n",
       "      <th></th>\n",
       "      <th>ProdTaken</th>\n",
       "      <th>Age</th>\n",
       "      <th>TypeofContact</th>\n",
       "      <th>CityTier</th>\n",
       "      <th>DurationOfPitch</th>\n",
       "      <th>Occupation</th>\n",
       "      <th>Gender</th>\n",
       "      <th>NumberOfPersonVisiting</th>\n",
       "      <th>NumberOfFollowups</th>\n",
       "      <th>ProductPitched</th>\n",
       "      <th>PreferredPropertyStar</th>\n",
       "      <th>MaritalStatus</th>\n",
       "      <th>NumberOfTrips</th>\n",
       "      <th>Passport</th>\n",
       "      <th>PitchSatisfactionScore</th>\n",
       "      <th>OwnCar</th>\n",
       "      <th>NumberOfChildrenVisiting</th>\n",
       "      <th>Designation</th>\n",
       "      <th>MonthlyIncome</th>\n",
       "    </tr>\n",
       "  </thead>\n",
       "  <tbody>\n",
       "    <tr>\n",
       "      <th>0</th>\n",
       "      <td>1</td>\n",
       "      <td>41.0</td>\n",
       "      <td>Self Enquiry</td>\n",
       "      <td>3</td>\n",
       "      <td>6.0</td>\n",
       "      <td>Salaried</td>\n",
       "      <td>Female</td>\n",
       "      <td>3</td>\n",
       "      <td>3.0</td>\n",
       "      <td>Deluxe</td>\n",
       "      <td>3.0</td>\n",
       "      <td>Single</td>\n",
       "      <td>1.0</td>\n",
       "      <td>1</td>\n",
       "      <td>2</td>\n",
       "      <td>1</td>\n",
       "      <td>0.0</td>\n",
       "      <td>Manager</td>\n",
       "      <td>20993.0</td>\n",
       "    </tr>\n",
       "    <tr>\n",
       "      <th>1</th>\n",
       "      <td>0</td>\n",
       "      <td>49.0</td>\n",
       "      <td>Company Invited</td>\n",
       "      <td>1</td>\n",
       "      <td>14.0</td>\n",
       "      <td>Salaried</td>\n",
       "      <td>Male</td>\n",
       "      <td>3</td>\n",
       "      <td>4.0</td>\n",
       "      <td>Deluxe</td>\n",
       "      <td>4.0</td>\n",
       "      <td>Divorced</td>\n",
       "      <td>2.0</td>\n",
       "      <td>0</td>\n",
       "      <td>3</td>\n",
       "      <td>1</td>\n",
       "      <td>2.0</td>\n",
       "      <td>Manager</td>\n",
       "      <td>20130.0</td>\n",
       "    </tr>\n",
       "    <tr>\n",
       "      <th>2</th>\n",
       "      <td>1</td>\n",
       "      <td>37.0</td>\n",
       "      <td>Self Enquiry</td>\n",
       "      <td>1</td>\n",
       "      <td>8.0</td>\n",
       "      <td>Free Lancer</td>\n",
       "      <td>Male</td>\n",
       "      <td>3</td>\n",
       "      <td>4.0</td>\n",
       "      <td>Basic</td>\n",
       "      <td>3.0</td>\n",
       "      <td>Single</td>\n",
       "      <td>7.0</td>\n",
       "      <td>1</td>\n",
       "      <td>3</td>\n",
       "      <td>0</td>\n",
       "      <td>0.0</td>\n",
       "      <td>Executive</td>\n",
       "      <td>17090.0</td>\n",
       "    </tr>\n",
       "  </tbody>\n",
       "</table>\n",
       "</div>"
      ],
      "text/plain": [
       "   ProdTaken   Age    TypeofContact  CityTier  DurationOfPitch   Occupation  \\\n",
       "0          1  41.0     Self Enquiry         3              6.0     Salaried   \n",
       "1          0  49.0  Company Invited         1             14.0     Salaried   \n",
       "2          1  37.0     Self Enquiry         1              8.0  Free Lancer   \n",
       "\n",
       "   Gender  NumberOfPersonVisiting  NumberOfFollowups ProductPitched  \\\n",
       "0  Female                       3                3.0         Deluxe   \n",
       "1    Male                       3                4.0         Deluxe   \n",
       "2    Male                       3                4.0          Basic   \n",
       "\n",
       "   PreferredPropertyStar MaritalStatus  NumberOfTrips  Passport  \\\n",
       "0                    3.0        Single            1.0         1   \n",
       "1                    4.0      Divorced            2.0         0   \n",
       "2                    3.0        Single            7.0         1   \n",
       "\n",
       "   PitchSatisfactionScore  OwnCar  NumberOfChildrenVisiting Designation  \\\n",
       "0                       2       1                       0.0     Manager   \n",
       "1                       3       1                       2.0     Manager   \n",
       "2                       3       0                       0.0   Executive   \n",
       "\n",
       "   MonthlyIncome  \n",
       "0        20993.0  \n",
       "1        20130.0  \n",
       "2        17090.0  "
      ]
     },
     "execution_count": 3,
     "metadata": {},
     "output_type": "execute_result"
    }
   ],
   "source": [
    "df.head(3)"
   ]
  },
  {
   "cell_type": "code",
   "execution_count": 4,
   "metadata": {},
   "outputs": [
    {
     "name": "stdout",
     "output_type": "stream",
     "text": [
      "<class 'pandas.core.frame.DataFrame'>\n",
      "RangeIndex: 4888 entries, 0 to 4887\n",
      "Data columns (total 19 columns):\n",
      " #   Column                    Non-Null Count  Dtype  \n",
      "---  ------                    --------------  -----  \n",
      " 0   ProdTaken                 4888 non-null   int64  \n",
      " 1   Age                       4662 non-null   float64\n",
      " 2   TypeofContact             4863 non-null   object \n",
      " 3   CityTier                  4888 non-null   int64  \n",
      " 4   DurationOfPitch           4637 non-null   float64\n",
      " 5   Occupation                4888 non-null   object \n",
      " 6   Gender                    4888 non-null   object \n",
      " 7   NumberOfPersonVisiting    4888 non-null   int64  \n",
      " 8   NumberOfFollowups         4843 non-null   float64\n",
      " 9   ProductPitched            4888 non-null   object \n",
      " 10  PreferredPropertyStar     4862 non-null   float64\n",
      " 11  MaritalStatus             4888 non-null   object \n",
      " 12  NumberOfTrips             4748 non-null   float64\n",
      " 13  Passport                  4888 non-null   int64  \n",
      " 14  PitchSatisfactionScore    4888 non-null   int64  \n",
      " 15  OwnCar                    4888 non-null   int64  \n",
      " 16  NumberOfChildrenVisiting  4822 non-null   float64\n",
      " 17  Designation               4888 non-null   object \n",
      " 18  MonthlyIncome             4655 non-null   float64\n",
      "dtypes: float64(7), int64(6), object(6)\n",
      "memory usage: 725.7+ KB\n"
     ]
    }
   ],
   "source": [
    "df.info()"
   ]
  },
  {
   "cell_type": "code",
   "execution_count": 5,
   "metadata": {},
   "outputs": [
    {
     "data": {
      "text/plain": [
       "ProdTaken                   0.000000\n",
       "Age                         0.046236\n",
       "TypeofContact               0.005115\n",
       "CityTier                    0.000000\n",
       "DurationOfPitch             0.051350\n",
       "Occupation                  0.000000\n",
       "Gender                      0.000000\n",
       "NumberOfPersonVisiting      0.000000\n",
       "NumberOfFollowups           0.009206\n",
       "ProductPitched              0.000000\n",
       "PreferredPropertyStar       0.005319\n",
       "MaritalStatus               0.000000\n",
       "NumberOfTrips               0.028642\n",
       "Passport                    0.000000\n",
       "PitchSatisfactionScore      0.000000\n",
       "OwnCar                      0.000000\n",
       "NumberOfChildrenVisiting    0.013502\n",
       "Designation                 0.000000\n",
       "MonthlyIncome               0.047668\n",
       "dtype: float64"
      ]
     },
     "execution_count": 5,
     "metadata": {},
     "output_type": "execute_result"
    }
   ],
   "source": [
    "pd.isnull(df).sum()/len(df)"
   ]
  },
  {
   "cell_type": "code",
   "execution_count": 6,
   "metadata": {},
   "outputs": [
    {
     "data": {
      "text/plain": [
       "ProdTaken                   0.000000\n",
       "Age                         4.623568\n",
       "TypeofContact               0.511457\n",
       "CityTier                    0.000000\n",
       "DurationOfPitch             5.135025\n",
       "Occupation                  0.000000\n",
       "Gender                      0.000000\n",
       "NumberOfPersonVisiting      0.000000\n",
       "NumberOfFollowups           0.920622\n",
       "ProductPitched              0.000000\n",
       "PreferredPropertyStar       0.531915\n",
       "MaritalStatus               0.000000\n",
       "NumberOfTrips               2.864157\n",
       "Passport                    0.000000\n",
       "PitchSatisfactionScore      0.000000\n",
       "OwnCar                      0.000000\n",
       "NumberOfChildrenVisiting    1.350245\n",
       "Designation                 0.000000\n",
       "MonthlyIncome               4.766776\n",
       "dtype: float64"
      ]
     },
     "execution_count": 6,
     "metadata": {},
     "output_type": "execute_result"
    }
   ],
   "source": [
    "100*pd.isnull(df).sum()/len(df)"
   ]
  },
  {
   "cell_type": "code",
   "execution_count": 8,
   "metadata": {},
   "outputs": [],
   "source": [
    "# Treatment of Gender Column\n",
    "df['Gender'] = df['Gender'].apply(lambda x: 'Female' if x.lower() == 'fe male' else x.capitalize())"
   ]
  },
  {
   "cell_type": "code",
   "execution_count": 9,
   "metadata": {},
   "outputs": [],
   "source": [
    "# Treatment of Occupation Column\n",
    "df['Occupation'] = df['Occupation'].apply(lambda x: 'Small Business' if x.lower() =='free lancer' else x)"
   ]
  },
  {
   "cell_type": "code",
   "execution_count": 10,
   "metadata": {},
   "outputs": [],
   "source": [
    "target_col = 'ProdTaken'\n",
    "cat_cols = ['TypeofContact','CityTier','Occupation','Gender','ProductPitched','MaritalStatus','Passport','OwnCar','Designation']\n",
    "num_cols = ['DurationOfPitch','NumberOfPersonVisiting','PreferredPropertyStar','NumberOfTrips','PitchSatisfactionScore',\n",
    "               'NumberOfChildrenVisiting','MonthlyIncome' ]\n",
    "feats = []"
   ]
  },
  {
   "cell_type": "code",
   "execution_count": 11,
   "metadata": {},
   "outputs": [
    {
     "name": "stdout",
     "output_type": "stream",
     "text": [
      "TypeofContact\n",
      "---------------\n",
      "Company Invited    1419\n",
      "Self Enquiry       3444\n",
      "Name: TypeofContact, dtype: int64 \n",
      "\n",
      "CityTier\n",
      "---------------\n",
      "1    3190\n",
      "2     198\n",
      "3    1500\n",
      "Name: CityTier, dtype: int64 \n",
      "\n",
      "Occupation\n",
      "---------------\n",
      "Large Business     434\n",
      "Salaried          2368\n",
      "Small Business    2086\n",
      "Name: Occupation, dtype: int64 \n",
      "\n",
      "Gender\n",
      "---------------\n",
      "Female    1972\n",
      "Male      2916\n",
      "Name: Gender, dtype: int64 \n",
      "\n",
      "ProductPitched\n",
      "---------------\n",
      "Basic           1842\n",
      "Deluxe          1732\n",
      "King             230\n",
      "Standard         742\n",
      "Super Deluxe     342\n",
      "Name: ProductPitched, dtype: int64 \n",
      "\n",
      "MaritalStatus\n",
      "---------------\n",
      "Divorced      950\n",
      "Married      2340\n",
      "Single        916\n",
      "Unmarried     682\n",
      "Name: MaritalStatus, dtype: int64 \n",
      "\n",
      "Passport\n",
      "---------------\n",
      "0    3466\n",
      "1    1422\n",
      "Name: Passport, dtype: int64 \n",
      "\n",
      "OwnCar\n",
      "---------------\n",
      "0    1856\n",
      "1    3032\n",
      "Name: OwnCar, dtype: int64 \n",
      "\n",
      "Designation\n",
      "---------------\n",
      "AVP                342\n",
      "Executive         1842\n",
      "Manager           1732\n",
      "Senior Manager     742\n",
      "VP                 230\n",
      "Name: Designation, dtype: int64 \n",
      "\n"
     ]
    }
   ],
   "source": [
    "for col in cat_cols:\n",
    "    print(col)\n",
    "    print('-'*15)\n",
    "    print(df[col].value_counts().sort_index(),'\\n')\n",
    "    "
   ]
  },
  {
   "cell_type": "code",
   "execution_count": 12,
   "metadata": {},
   "outputs": [
    {
     "data": {
      "text/plain": [
       "['TypeofContact',\n",
       " 'CityTier',\n",
       " 'Occupation',\n",
       " 'Gender',\n",
       " 'ProductPitched',\n",
       " 'MaritalStatus',\n",
       " 'Passport',\n",
       " 'OwnCar',\n",
       " 'Designation']"
      ]
     },
     "execution_count": 12,
     "metadata": {},
     "output_type": "execute_result"
    }
   ],
   "source": [
    "cat_cols"
   ]
  },
  {
   "cell_type": "code",
   "execution_count": 13,
   "metadata": {},
   "outputs": [],
   "source": [
    "# Treating AGE Missing Data\n",
    "# df.groupby(['MaritalStatus','ProductPitched',])['Age'].mean()\n",
    "# def imput_col(row, col, dep_col):\n",
    "#     dep0 = row[dep_col[0]]\n",
    "#     dep1 = row[dep_col[1]]\n",
    "#     if pd.isnull(row[col]):\n",
    "#         return df[col][(df[dep_col[0]]==dep0)&(df[dep_col[1]]==dep1)].mean()\n",
    "#     return df[col]\n",
    "\n",
    "def impute_age(row):\n",
    "    ms = row['MaritalStatus']\n",
    "    pp = row['ProductPitched']\n",
    "    if pd.isnull(row['Age']):\n",
    "        return df['Age'][(df['MaritalStatus']==ms)&(df['ProductPitched']==pp)].mean()\n",
    "    return row['Age']\n",
    "df['Age'] = df.apply(impute_age, axis=1)"
   ]
  },
  {
   "cell_type": "code",
   "execution_count": 14,
   "metadata": {},
   "outputs": [],
   "source": [
    "def impute_duration_pitch(row):\n",
    "    ms = row['Occupation']\n",
    "    pp = row['ProductPitched']\n",
    "    if pd.isnull(row['Age']):\n",
    "        return df[(df['Occupation']==ms)&(df['ProductPitched']==pp)]['DurationOfPitch'].mean()\n",
    "    return row['DurationOfPitch']\n",
    "# df.groupby(['ProductPitched','Occupation'])['DurationOfPitch'].mean()\n",
    "df['DurationOfPitch'] = df.apply(impute_duration_pitch, axis=1)"
   ]
  },
  {
   "cell_type": "code",
   "execution_count": 15,
   "metadata": {},
   "outputs": [],
   "source": [
    "def impute_monthly_income(row):\n",
    "    ms = row['Occupation']\n",
    "    pp = row['ProductPitched']\n",
    "    if pd.isnull(row['Age']):\n",
    "        return df['MonthlyIncome'][(df['Occupation']==ms)&(df['ProductPitched']==pp)].mean()\n",
    "    return row['MonthlyIncome']\n",
    "# df.groupby(['ProductPitched','Occupation'])['MonthlyIncome'].mean()\n",
    "df['MonthlyIncome'] = df.apply(impute_monthly_income, axis=1)"
   ]
  },
  {
   "cell_type": "code",
   "execution_count": 16,
   "metadata": {},
   "outputs": [],
   "source": [
    "# df.groupby(['MaritalStatus'])['NumberOfTrips'].mean()"
   ]
  },
  {
   "cell_type": "code",
   "execution_count": 17,
   "metadata": {},
   "outputs": [
    {
     "data": {
      "text/plain": [
       "(4888, 19)"
      ]
     },
     "execution_count": 17,
     "metadata": {},
     "output_type": "execute_result"
    }
   ],
   "source": [
    "df.shape"
   ]
  },
  {
   "cell_type": "code",
   "execution_count": 18,
   "metadata": {},
   "outputs": [],
   "source": [
    "df.dropna(inplace=True)"
   ]
  },
  {
   "cell_type": "code",
   "execution_count": 19,
   "metadata": {},
   "outputs": [
    {
     "data": {
      "text/plain": [
       "ProdTaken                   0.0\n",
       "Age                         0.0\n",
       "TypeofContact               0.0\n",
       "CityTier                    0.0\n",
       "DurationOfPitch             0.0\n",
       "Occupation                  0.0\n",
       "Gender                      0.0\n",
       "NumberOfPersonVisiting      0.0\n",
       "NumberOfFollowups           0.0\n",
       "ProductPitched              0.0\n",
       "PreferredPropertyStar       0.0\n",
       "MaritalStatus               0.0\n",
       "NumberOfTrips               0.0\n",
       "Passport                    0.0\n",
       "PitchSatisfactionScore      0.0\n",
       "OwnCar                      0.0\n",
       "NumberOfChildrenVisiting    0.0\n",
       "Designation                 0.0\n",
       "MonthlyIncome               0.0\n",
       "dtype: float64"
      ]
     },
     "execution_count": 19,
     "metadata": {},
     "output_type": "execute_result"
    }
   ],
   "source": [
    "100*pd.isnull(df).sum()/len(df)"
   ]
  },
  {
   "cell_type": "code",
   "execution_count": 20,
   "metadata": {},
   "outputs": [
    {
     "data": {
      "text/plain": [
       "(4224, 19)"
      ]
     },
     "execution_count": 20,
     "metadata": {},
     "output_type": "execute_result"
    }
   ],
   "source": [
    "df.shape"
   ]
  },
  {
   "cell_type": "code",
   "execution_count": 21,
   "metadata": {},
   "outputs": [],
   "source": [
    "from sklearn.model_selection import train_test_split\n",
    "from sklearn.tree import DecisionTreeClassifier\n",
    "from sklearn.ensemble import RandomForestClassifier\n",
    "from sklearn.linear_model import LogisticRegressionCV"
   ]
  },
  {
   "cell_type": "code",
   "execution_count": 22,
   "metadata": {},
   "outputs": [],
   "source": [
    "features = df.drop(['ProdTaken','Designation','MaritalStatus','Occupation','ProductPitched','OwnCar',\n",
    "                    'NumberOfPersonVisiting','MonthlyIncome',\n",
    "                    # 'CityTier','DurationOfPitch','NumberOfTrips',\n",
    "                    'NumberOfChildrenVisiting','PitchSatisfactionScore'\n",
    "                    ],axis=1)\n",
    "target = df['ProdTaken']\n",
    "features_df = pd.get_dummies(features).drop(['TypeofContact_Company Invited','Gender_Female'],axis=1)"
   ]
  },
  {
   "cell_type": "code",
   "execution_count": 23,
   "metadata": {},
   "outputs": [
    {
     "data": {
      "text/plain": [
       "<AxesSubplot:>"
      ]
     },
     "execution_count": 23,
     "metadata": {},
     "output_type": "execute_result"
    },
    {
     "data": {
      "image/png": "[encoded data removed]",
      "text/plain": [
       "<Figure size 1400x600 with 2 Axes>"
      ]
     },
     "metadata": {},
     "output_type": "display_data"
    }
   ],
   "source": [
    "plt.figure(figsize=(14,6))\n",
    "sns.heatmap(df[list(features.columns)+[target_col]].corr(),annot=True)\n"
   ]
  },
  {
   "cell_type": "code",
   "execution_count": 24,
   "metadata": {},
   "outputs": [
    {
     "name": "stdout",
     "output_type": "stream",
     "text": [
      "Logistic (Train): 82.8 %\n",
      "Logistic (Test): 83.0 %\n",
      "DT (Train): 99.9 %\n",
      "DT (Test): 89.1 %\n",
      "RF (Train): 99.9 %\n",
      "RF (Test): 92.4 %\n"
     ]
    }
   ],
   "source": [
    "xtrain,xtest,ytrain,ytest = train_test_split(features_df, target, test_size=0.25,random_state=101)\n",
    "\n",
    "model_log = LogisticRegressionCV().fit(xtrain,ytrain)\n",
    "model_dt = DecisionTreeClassifier().fit(xtrain,ytrain)\n",
    "model_rf = RandomForestClassifier().fit(xtrain,ytrain)\n",
    "\n",
    "print('Logistic (Train):', round(model_log.score(xtrain,ytrain)*100,1),'%')\n",
    "print('Logistic (Test):', round(model_log.score(xtest,ytest)*100,1),'%')\n",
    "\n",
    "print('DT (Train):', round(model_dt.score(xtrain,ytrain)*100,1),'%')\n",
    "print('DT (Test):', round(model_dt.score(xtest,ytest)*100,1),'%')\n",
    "\n",
    "print('RF (Train):', round(model_rf.score(xtrain,ytrain)*100,1),'%')\n",
    "print('RF (Test):', round(model_rf.score(xtest,ytest)*100,1),'%')"
   ]
  },
  {
   "cell_type": "code",
   "execution_count": 25,
   "metadata": {},
   "outputs": [
    {
     "data": {
      "text/html": [
       "<div>\n",
       "<style scoped>\n",
       "    .dataframe tbody tr th:only-of-type {\n",
       "        vertical-align: middle;\n",
       "    }\n",
       "\n",
       "    .dataframe tbody tr th {\n",
       "        vertical-align: top;\n",
       "    }\n",
       "\n",
       "    .dataframe thead th {\n",
       "        text-align: right;\n",
       "    }\n",
       "</style>\n",
       "<table border=\"1\" class=\"dataframe\">\n",
       "  <thead>\n",
       "    <tr style=\"text-align: right;\">\n",
       "      <th></th>\n",
       "      <th>imp</th>\n",
       "    </tr>\n",
       "  </thead>\n",
       "  <tbody>\n",
       "    <tr>\n",
       "      <th>Age</th>\n",
       "      <td>0.292034</td>\n",
       "    </tr>\n",
       "    <tr>\n",
       "      <th>DurationOfPitch</th>\n",
       "      <td>0.221149</td>\n",
       "    </tr>\n",
       "    <tr>\n",
       "      <th>NumberOfTrips</th>\n",
       "      <td>0.119365</td>\n",
       "    </tr>\n",
       "    <tr>\n",
       "      <th>NumberOfFollowups</th>\n",
       "      <td>0.087065</td>\n",
       "    </tr>\n",
       "    <tr>\n",
       "      <th>Passport</th>\n",
       "      <td>0.083543</td>\n",
       "    </tr>\n",
       "    <tr>\n",
       "      <th>PreferredPropertyStar</th>\n",
       "      <td>0.061780</td>\n",
       "    </tr>\n",
       "    <tr>\n",
       "      <th>Gender_Male</th>\n",
       "      <td>0.048236</td>\n",
       "    </tr>\n",
       "    <tr>\n",
       "      <th>CityTier</th>\n",
       "      <td>0.047376</td>\n",
       "    </tr>\n",
       "    <tr>\n",
       "      <th>TypeofContact_Self Enquiry</th>\n",
       "      <td>0.039451</td>\n",
       "    </tr>\n",
       "  </tbody>\n",
       "</table>\n",
       "</div>"
      ],
      "text/plain": [
       "                                 imp\n",
       "Age                         0.292034\n",
       "DurationOfPitch             0.221149\n",
       "NumberOfTrips               0.119365\n",
       "NumberOfFollowups           0.087065\n",
       "Passport                    0.083543\n",
       "PreferredPropertyStar       0.061780\n",
       "Gender_Male                 0.048236\n",
       "CityTier                    0.047376\n",
       "TypeofContact_Self Enquiry  0.039451"
      ]
     },
     "execution_count": 25,
     "metadata": {},
     "output_type": "execute_result"
    }
   ],
   "source": [
    "pd.DataFrame(model_rf.feature_importances_, index=xtrain.columns, columns=['imp']).sort_values(by='imp', ascending=False)"
   ]
  },
  {
   "cell_type": "code",
   "execution_count": 26,
   "metadata": {},
   "outputs": [],
   "source": [
    "pd.to_pickle(model_rf,'TourPackagePredictor.pickle')"
   ]
  },
  {
   "cell_type": "code",
   "execution_count": null,
   "metadata": {},
   "outputs": [],
   "source": []
  }
 ],
 "metadata": {
  "kernelspec": {
   "display_name": "Python 3.10.6 64-bit",
   "language": "python",
   "name": "python3"
  },
  "language_info": {
   "codemirror_mode": {
    "name": "ipython",
    "version": 3
   },
   "file_extension": ".py",
   "mimetype": "text/x-python",
   "name": "python",
   "nbconvert_exporter": "python",
   "pygments_lexer": "ipython3",
   "version": "3.10.6"
  },
  "orig_nbformat": 4,
  "vscode": {
   "interpreter": {
    "hash": "751ffe1421578c9cfc674bac6da631329422ca78856af845d56cac74d9ef5e48"
   }
  }
 },
 "nbformat": 4,
 "nbformat_minor": 2
}
