{
 "cells": [
  {
   "cell_type": "code",
   "execution_count": 1,
   "id": "efa85013-6e88-4bb2-a03b-fdcab46b2ccc",
   "metadata": {},
   "outputs": [
    {
     "data": {
      "text/plain": [
       "7"
      ]
     },
     "execution_count": 1,
     "metadata": {},
     "output_type": "execute_result"
    }
   ],
   "source": [
    "3+4"
   ]
  },
  {
   "cell_type": "code",
   "execution_count": 2,
   "id": "564fae44-9dfe-4f16-99a7-f6fff61c2c89",
   "metadata": {},
   "outputs": [
    {
     "name": "stdout",
     "output_type": "stream",
     "text": [
      "Welcome to machine learning\n"
     ]
    }
   ],
   "source": [
    "print('Welcome to machine learning')"
   ]
  },
  {
   "cell_type": "code",
   "execution_count": 3,
   "id": "dfbe2421-bb0d-4055-b19f-9591236c57db",
   "metadata": {},
   "outputs": [],
   "source": [
    "#1st Heading"
   ]
  },
  {
   "cell_type": "markdown",
   "id": "1046eed3-07ba-423b-92b8-59e20b5ae699",
   "metadata": {},
   "source": [
    "#2nd headings"
   ]
  },
  {
   "cell_type": "markdown",
   "id": "019de597-5cf4-4ab2-af7f-de013199eaad",
   "metadata": {},
   "source": [
    "###sub Heading"
   ]
  },
  {
   "cell_type": "markdown",
   "id": "6c9c7c31-6663-4151-b489-40a6ae5bd2f5",
   "metadata": {},
   "source": [
    "# 1st Heading"
   ]
  },
  {
   "cell_type": "markdown",
   "id": "2d1feb61-d624-4614-b2fb-286b5df5e647",
   "metadata": {},
   "source": [
    "## 2nd Heading"
   ]
  },
  {
   "cell_type": "markdown",
   "id": "687ac42b-b596-4e67-96df-0273929d7999",
   "metadata": {},
   "source": [
    "### sub Heading"
   ]
  },
  {
   "cell_type": "markdown",
   "id": "1fd28666-2511-4ec5-b326-0b093f7ddc38",
   "metadata": {},
   "source": [
    "* this is first point\n",
    "* this is second point"
   ]
  },
  {
   "cell_type": "markdown",
   "id": "242082f5-c35a-4fb1-b1f8-aa2baacba81d",
   "metadata": {},
   "source": [
    "1. this is third point\n",
    "2. this is fourth point"
   ]
  },
  {
   "cell_type": "markdown",
   "id": "14a154b7-39e8-46ec-ba8f-da52b112b38e",
   "metadata": {},
   "source": [
    "* this is first point\n",
    "* this is second point"
   ]
  },
  {
   "cell_type": "markdown",
   "id": "7848f7fa-d1e3-4753-b1d7-b642ad19cc56",
   "metadata": {},
   "source": [
    "# Prerna"
   ]
  },
  {
   "cell_type": "markdown",
   "id": "30173f27-6639-47de-9715-533ecf48d56d",
   "metadata": {},
   "source": [
    "# Chauhan"
   ]
  },
  {
   "cell_type": "code",
   "execution_count": 5,
   "id": "405d78f3-f874-4427-b480-ed4eebcadae3",
   "metadata": {},
   "outputs": [],
   "source": [
    "import os"
   ]
  },
  {
   "cell_type": "code",
   "execution_count": 6,
   "id": "21973774-0c0e-4463-b256-4a65b8e922ca",
   "metadata": {},
   "outputs": [
    {
     "data": {
      "text/plain": [
       "<function nt.getcwd()>"
      ]
     },
     "execution_count": 6,
     "metadata": {},
     "output_type": "execute_result"
    }
   ],
   "source": [
    "os.getcwd"
   ]
  },
  {
   "cell_type": "code",
   "execution_count": 12,
   "id": "183ff38a-f66f-480c-bd4e-afcddd9bd995",
   "metadata": {},
   "outputs": [
    {
     "data": {
      "text/plain": [
       "'C:\\\\Users\\\\Prerna Chauhan\\\\Desktop\\\\Jecrc\\\\day7'"
      ]
     },
     "execution_count": 12,
     "metadata": {},
     "output_type": "execute_result"
    }
   ],
   "source": [
    "os.getcwd()"
   ]
  },
  {
   "cell_type": "code",
   "execution_count": 8,
   "id": "10f3cc97-7615-46eb-abec-0032cf5e3bcb",
   "metadata": {},
   "outputs": [
    {
     "data": {
      "text/plain": [
       "'C:\\\\Users\\\\Prerna Chauhan\\\\Desktop\\\\Jecrc\\\\day7'"
      ]
     },
     "execution_count": 8,
     "metadata": {},
     "output_type": "execute_result"
    }
   ],
   "source": [
    "os.getcwd()"
   ]
  },
  {
   "cell_type": "code",
   "execution_count": 15,
   "id": "777c200c-9449-4d0e-a335-8416bb1098fd",
   "metadata": {},
   "outputs": [],
   "source": [
    "os.chdir('C:\\\\Users\\\\Prerna Chauhan\\\\Desktop')"
   ]
  },
  {
   "cell_type": "code",
   "execution_count": 16,
   "id": "4686e802-8da7-4c17-b4da-63ecfa88ffc0",
   "metadata": {},
   "outputs": [
    {
     "data": {
      "text/plain": [
       "'C:\\\\Users\\\\Prerna Chauhan\\\\Desktop'"
      ]
     },
     "execution_count": 16,
     "metadata": {},
     "output_type": "execute_result"
    }
   ],
   "source": [
    "os.getcwd()"
   ]
  },
  {
   "cell_type": "code",
   "execution_count": 18,
   "id": "2e68d187-df21-4998-8185-13badf3982dd",
   "metadata": {},
   "outputs": [
    {
     "data": {
      "text/plain": [
       "['AnyDesk - Shortcut.lnk',\n",
       " 'desktop.ini',\n",
       " 'facebook.lnk',\n",
       " 'Google Chrome.lnk',\n",
       " 'IDLE (Python 3.10 64-bit).lnk',\n",
       " 'Jecrc',\n",
       " 'New Text Document.txt',\n",
       " 'Opera Browser.lnk',\n",
       " 'project first pages front, decl,certi,ackn.docx',\n",
       " 'python 01.py',\n",
       " 'python coding.py',\n",
       " 'python.py',\n",
       " 'Visual Studio Code (2).lnk',\n",
       " 'Visual Studio Code.lnk',\n",
       " 'WhatsApp.lnk']"
      ]
     },
     "execution_count": 18,
     "metadata": {},
     "output_type": "execute_result"
    }
   ],
   "source": [
    "os.listdir('C:\\\\Users\\\\Prerna Chauhan\\\\Desktop')"
   ]
  },
  {
   "cell_type": "code",
   "execution_count": 21,
   "id": "45b21fdb-6288-424a-8381-5a5fe36790b5",
   "metadata": {},
   "outputs": [],
   "source": [
    "os.chdir('C:\\\\Users\\\\Prerna Chauhan\\\\Desktop\\\\Jecrc\\\\day7')"
   ]
  },
  {
   "cell_type": "raw",
   "id": "4b01dd4f-c22a-4ed2-8949-a3b76e9edd73",
   "metadata": {},
   "source": [
    "os.rmdir('Empty_folder')"
   ]
  },
  {
   "cell_type": "code",
   "execution_count": 23,
   "id": "ee872a6d-2df3-420b-aa4c-1cb36ddec3b8",
   "metadata": {},
   "outputs": [
    {
     "ename": "FileNotFoundError",
     "evalue": "[WinError 2] The system cannot find the file specified: 'Empty_folder'",
     "output_type": "error",
     "traceback": [
      "\u001b[1;31m---------------------------------------------------------------------------\u001b[0m",
      "\u001b[1;31mFileNotFoundError\u001b[0m                         Traceback (most recent call last)",
      "Input \u001b[1;32mIn [23]\u001b[0m, in \u001b[0;36m<cell line: 1>\u001b[1;34m()\u001b[0m\n\u001b[1;32m----> 1\u001b[0m \u001b[43mos\u001b[49m\u001b[38;5;241;43m.\u001b[39;49m\u001b[43mrmdir\u001b[49m\u001b[43m \u001b[49m\u001b[43m(\u001b[49m\u001b[38;5;124;43m'\u001b[39;49m\u001b[38;5;124;43mEmpty_folder\u001b[39;49m\u001b[38;5;124;43m'\u001b[39;49m\u001b[43m)\u001b[49m\n",
      "\u001b[1;31mFileNotFoundError\u001b[0m: [WinError 2] The system cannot find the file specified: 'Empty_folder'"
     ]
    }
   ],
   "source": [
    "os.rmdir ('Empty_folder')"
   ]
  },
  {
   "cell_type": "code",
   "execution_count": 24,
   "id": "46c4c1da-2edf-410d-897b-68a44e6d59a1",
   "metadata": {},
   "outputs": [],
   "source": [
    "## Random"
   ]
  },
  {
   "cell_type": "code",
   "execution_count": 25,
   "id": "8d137ec0-28ed-40d0-a0b5-89104dcda475",
   "metadata": {},
   "outputs": [],
   "source": [
    "## Random"
   ]
  },
  {
   "cell_type": "code",
   "execution_count": 26,
   "id": "7c86a6c1-58b6-4532-8d21-393168630685",
   "metadata": {},
   "outputs": [],
   "source": [
    "import random"
   ]
  },
  {
   "cell_type": "code",
   "execution_count": 27,
   "id": "ba051998-3271-4b80-ae73-7fa47c108923",
   "metadata": {},
   "outputs": [
    {
     "name": "stdout",
     "output_type": "stream",
     "text": [
      "0.9176358378156348\n"
     ]
    }
   ],
   "source": [
    "val = random.random()\n",
    "print(val)"
   ]
  },
  {
   "cell_type": "code",
   "execution_count": 34,
   "id": "f5119873-0a50-4327-9748-81ce8ba6f135",
   "metadata": {},
   "outputs": [],
   "source": [
    "val2 = random.randint(1,10)"
   ]
  },
  {
   "cell_type": "code",
   "execution_count": 35,
   "id": "d72e5ed1-1147-46e3-9745-ffbb0b102c31",
   "metadata": {},
   "outputs": [
    {
     "name": "stdout",
     "output_type": "stream",
     "text": [
      "10\n"
     ]
    }
   ],
   "source": [
    "print(val2)"
   ]
  },
  {
   "cell_type": "code",
   "execution_count": 36,
   "id": "36d430c9-3e75-495a-9fc9-4a960eae73e8",
   "metadata": {},
   "outputs": [
    {
     "name": "stdout",
     "output_type": "stream",
     "text": [
      "howdy\n"
     ]
    }
   ],
   "source": [
    "m = ['hi','hello','hayy','howdy']\n",
    "val = random.choice(m)\n",
    "print(val)"
   ]
  },
  {
   "cell_type": "code",
   "execution_count": 37,
   "id": "7f36c665-b15b-4895-be6b-94290f30e44e",
   "metadata": {},
   "outputs": [
    {
     "name": "stdout",
     "output_type": "stream",
     "text": [
      "['hayy', 'howdy']\n"
     ]
    }
   ],
   "source": [
    "m = ['hi','hello','hayy','howdy']\n",
    "val = random.choices(m,k=2)\n",
    "print(val)"
   ]
  },
  {
   "cell_type": "code",
   "execution_count": 38,
   "id": "ed679d37-9b0a-4524-b707-f8c84e106695",
   "metadata": {},
   "outputs": [
    {
     "name": "stdout",
     "output_type": "stream",
     "text": [
      "['hello', 'howdy', 'howdy']\n"
     ]
    }
   ],
   "source": [
    "m = ['hi','hello','hayy','howdy']\n",
    "val = random.choices(m,k=3)\n",
    "print(val)"
   ]
  },
  {
   "cell_type": "code",
   "execution_count": 39,
   "id": "4762e547-ed27-40b8-a5a3-a2c42b0e7ced",
   "metadata": {},
   "outputs": [
    {
     "name": "stdout",
     "output_type": "stream",
     "text": [
      "['hayy', 'howdy', 'hello', 'hi']\n"
     ]
    }
   ],
   "source": [
    "# shuffle\n",
    "random.shuffle(m)\n",
    "print(m)"
   ]
  },
  {
   "cell_type": "code",
   "execution_count": null,
   "id": "2d35dd9d-ae96-4c09-bd64-ae345aa40907",
   "metadata": {},
   "outputs": [],
   "source": []
  }
 ],
 "metadata": {
  "kernelspec": {
   "display_name": "Python 3 (ipykernel)",
   "language": "python",
   "name": "python3"
  },
  "language_info": {
   "codemirror_mode": {
    "name": "ipython",
    "version": 3
   },
   "file_extension": ".py",
   "mimetype": "text/x-python",
   "name": "python",
   "nbconvert_exporter": "python",
   "pygments_lexer": "ipython3",
   "version": "3.9.12"
  }
 },
 "nbformat": 4,
 "nbformat_minor": 5
}
