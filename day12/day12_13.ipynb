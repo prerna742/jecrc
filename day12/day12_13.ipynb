{
 "cells": [
  {
   "cell_type": "code",
   "execution_count": 1,
   "id": "5a8ee08f-1121-45a9-8b8c-079c831484d7",
   "metadata": {},
   "outputs": [],
   "source": [
    "import pandas as pd"
   ]
  },
  {
   "cell_type": "code",
   "execution_count": 2,
   "id": "63f53611-340f-4bdc-9e91-922c61367160",
   "metadata": {},
   "outputs": [
    {
     "ename": "SyntaxError",
     "evalue": "invalid syntax (4282441205.py, line 1)",
     "output_type": "error",
     "traceback": [
      "\u001b[1;36m  Input \u001b[1;32mIn [2]\u001b[1;36m\u001b[0m\n\u001b[1;33m    Data Analysis\u001b[0m\n\u001b[1;37m         ^\u001b[0m\n\u001b[1;31mSyntaxError\u001b[0m\u001b[1;31m:\u001b[0m invalid syntax\n"
     ]
    }
   ],
   "source": [
    "Data Analysis\n",
    "1. Description\n",
    "2. Diagnosis\n",
    "3. Prediction\n",
    "4. Actions/Prescription"
   ]
  },
  {
   "cell_type": "code",
   "execution_count": null,
   "id": "6b122c3e-8ea6-486a-a5fc-81aff6e2d6bc",
   "metadata": {},
   "outputs": [],
   "source": [
    "# The col names\n",
    "cols = ['user_id','movie_id','rating','ts']"
   ]
  },
  {
   "cell_type": "code",
   "execution_count": null,
   "id": "9e8dde85-d99d-4064-827c-4d4f793b836c",
   "metadata": {},
   "outputs": [],
   "source": [
    "df = pd.read_csv('u.data')"
   ]
  },
  {
   "cell_type": "code",
   "execution_count": null,
   "id": "00ad3fff-35ca-462b-a7c6-d071d889c9fa",
   "metadata": {},
   "outputs": [],
   "source": [
    "df.head()"
   ]
  },
  {
   "cell_type": "code",
   "execution_count": null,
   "id": "2c610174-a804-4f97-9223-6aa1bfea1208",
   "metadata": {},
   "outputs": [],
   "source": [
    "df = pd.read_csv('u.data',sep='\\t')"
   ]
  },
  {
   "cell_type": "code",
   "execution_count": null,
   "id": "d62844e2-3116-4c33-bf59-e9788fa69bf2",
   "metadata": {},
   "outputs": [],
   "source": [
    "df.head()"
   ]
  },
  {
   "cell_type": "code",
   "execution_count": null,
   "id": "0d26ec20-28f1-425b-93e7-5d5b8eaea0d5",
   "metadata": {},
   "outputs": [],
   "source": [
    "item_cols = ['movie_id','title']+[str(i) for i in range(22)]"
   ]
  },
  {
   "cell_type": "code",
   "execution_count": null,
   "id": "7232d4f3-bdab-4239-8e8f-9ab4f44392de",
   "metadata": {},
   "outputs": [],
   "source": [
    "# Read the file\n",
    "df = pd.read_csv('u.data',sep='\\t',names=cols)"
   ]
  },
  {
   "cell_type": "code",
   "execution_count": null,
   "id": "c8b6bffd-95e9-4bf2-b751-5188030a7f3f",
   "metadata": {},
   "outputs": [],
   "source": [
    "a = [4,8,2,7,9]"
   ]
  },
  {
   "cell_type": "code",
   "execution_count": null,
   "id": "b1a2fe58-8c3a-4e31-88a9-beb68e70decd",
   "metadata": {},
   "outputs": [],
   "source": [
    "# b = [8,16,4,14,18]"
   ]
  },
  {
   "cell_type": "code",
   "execution_count": null,
   "id": "8dd770e5-a494-499f-894a-386a82710ea7",
   "metadata": {},
   "outputs": [],
   "source": []
  },
  {
   "cell_type": "code",
   "execution_count": null,
   "id": "24c81cea-4b5b-4615-ab7a-a8a9fb0fe422",
   "metadata": {},
   "outputs": [],
   "source": []
  },
  {
   "cell_type": "code",
   "execution_count": null,
   "id": "926ebd87-5e56-4a2b-b272-a62269b93c37",
   "metadata": {},
   "outputs": [],
   "source": [
    "# Read the other file\n",
    "df1 = pd.read_csv('u.item',sep='|',encoding = 'ISO-8859-1',names=item_cols)[['movie_id','title']]"
   ]
  },
  {
   "cell_type": "code",
   "execution_count": null,
   "id": "b5dc522f-cde0-445e-9565-7710589542f4",
   "metadata": {},
   "outputs": [],
   "source": [
    "df1"
   ]
  },
  {
   "cell_type": "code",
   "execution_count": null,
   "id": "d521853d-93f9-441e-97f4-6398aa52eef8",
   "metadata": {},
   "outputs": [],
   "source": [
    "df1.shape"
   ]
  },
  {
   "cell_type": "markdown",
   "id": "078f61c8-a5ad-490a-b677-87ee97598e54",
   "metadata": {},
   "source": [
    " # Exploratory Data Analysis"
   ]
  },
  {
   "cell_type": "code",
   "execution_count": null,
   "id": "7181063d-049c-48aa-b339-1d70ec2cd7f3",
   "metadata": {},
   "outputs": [],
   "source": [
    "df.sample(5)"
   ]
  },
  {
   "cell_type": "code",
   "execution_count": null,
   "id": "10d7f5c5-47a4-4a0c-8022-951da970e8e3",
   "metadata": {},
   "outputs": [],
   "source": [
    "df.info()"
   ]
  },
  {
   "cell_type": "code",
   "execution_count": null,
   "id": "768c349a-4d9d-4660-a280-3397392009b6",
   "metadata": {},
   "outputs": [],
   "source": [
    "df.describe()"
   ]
  },
  {
   "cell_type": "code",
   "execution_count": null,
   "id": "a024e5be-4900-42d9-8a67-6dec7543e758",
   "metadata": {},
   "outputs": [],
   "source": [
    "df.describe(include='all')"
   ]
  },
  {
   "cell_type": "code",
   "execution_count": null,
   "id": "aedec38c-56b2-40a5-b641-b8dcf772f335",
   "metadata": {},
   "outputs": [],
   "source": [
    " Try to find the Different Data\n",
    "1. strings with Catagorical info\n",
    "2. strings with Random stuff\n",
    "3. Numbers with Quntified info\n",
    "4. Number with catagorical info\n",
    "5. Random numbers or ID sort of data"
   ]
  },
  {
   "cell_type": "code",
   "execution_count": null,
   "id": "88d94807-6d72-4707-9251-e80043ea4690",
   "metadata": {},
   "outputs": [],
   "source": [
    "df.columns"
   ]
  },
  {
   "cell_type": "code",
   "execution_count": null,
   "id": "60bb214a-b71b-4ae8-bc1d-6d594b702e2b",
   "metadata": {},
   "outputs": [],
   "source": [
    "df['rating'].unique()"
   ]
  },
  {
   "cell_type": "code",
   "execution_count": null,
   "id": "feb1aa1a-b557-474d-b06a-d12cee50cd2f",
   "metadata": {},
   "outputs": [],
   "source": [
    "df['rating'].nunique()"
   ]
  },
  {
   "cell_type": "code",
   "execution_count": null,
   "id": "6390c00b-a8af-484f-9f4a-b6fa3b51521a",
   "metadata": {},
   "outputs": [],
   "source": [
    "df['user_id'].nunique()"
   ]
  },
  {
   "cell_type": "code",
   "execution_count": null,
   "id": "a4750cc8-980e-44b5-8bfe-b9bdd2f006d9",
   "metadata": {},
   "outputs": [],
   "source": [
    "df['movie_id'].nunique()"
   ]
  },
  {
   "cell_type": "markdown",
   "id": "ffa5549d-a925-497c-9076-4400c404fcfd",
   "metadata": {},
   "source": [
    "df1.sample(3)"
   ]
  },
  {
   "cell_type": "markdown",
   "id": "a34a0821-d3e8-4692-a1ec-fd0ec2fa8b98",
   "metadata": {},
   "source": [
    "df1.sample(3)"
   ]
  },
  {
   "cell_type": "code",
   "execution_count": null,
   "id": "0d5abe77-9126-4b20-9145-da05c3c01873",
   "metadata": {},
   "outputs": [],
   "source": [
    "df1.sample(3)"
   ]
  },
  {
   "cell_type": "code",
   "execution_count": null,
   "id": "131fded7-5293-47c2-9ae0-5e084b94741a",
   "metadata": {},
   "outputs": [],
   "source": [
    "movie = pd.merge(df,df1,on='movie_id')\n",
    "movie.head()"
   ]
  },
  {
   "cell_type": "code",
   "execution_count": null,
   "id": "5011d836-90d5-4b2b-ba32-b58e6bff4a30",
   "metadata": {},
   "outputs": [],
   "source": [
    "# Remove the redundant or useless columns i.e, ts\n",
    "movie.drop('ts',axis=1,inplace=True)"
   ]
  },
  {
   "cell_type": "code",
   "execution_count": null,
   "id": "b4ab0a94-1e96-405d-89b3-980a97dbf064",
   "metadata": {},
   "outputs": [],
   "source": [
    "movie.head()"
   ]
  },
  {
   "cell_type": "code",
   "execution_count": null,
   "id": "a1a9a622-2b38-4472-86ac-34cdf1350af8",
   "metadata": {},
   "outputs": [],
   "source": [
    "movie.columns"
   ]
  },
  {
   "cell_type": "code",
   "execution_count": null,
   "id": "a49a28ba-fb2b-418e-9c47-d7c25a361a14",
   "metadata": {},
   "outputs": [],
   "source": [
    "# Find the number of rating for each movie\n",
    "movie.groupby('title').count()"
   ]
  },
  {
   "cell_type": "code",
   "execution_count": null,
   "id": "bbb9184e-27df-43d2-a5d6-f27f59a73797",
   "metadata": {},
   "outputs": [],
   "source": [
    "movie['title'].value_counts()"
   ]
  },
  {
   "cell_type": "code",
   "execution_count": null,
   "id": "68c07d71-aec3-4312-953f-a242cc72d881",
   "metadata": {},
   "outputs": [],
   "source": [
    "movie['title'].value_counts().head(10)"
   ]
  },
  {
   "cell_type": "code",
   "execution_count": null,
   "id": "13dfdc26-9139-4feb-bf29-663d11b5e3ea",
   "metadata": {},
   "outputs": [],
   "source": [
    "# find the average rating for each movie\n",
    "movie.groupby('title')['rating'].mean().sort_values(ascending=False).head(10)"
   ]
  },
  {
   "cell_type": "code",
   "execution_count": null,
   "id": "a6940290-ad81-4a74-b28c-2cf648ce2c0f",
   "metadata": {},
   "outputs": [],
   "source": [
    "ratings = pd.DataFrame(movie.groupby('title')['rating'].mean().sort_values(ascending=False))"
   ]
  },
  {
   "cell_type": "code",
   "execution_count": null,
   "id": "62850450-acf9-4398-9837-399b521a8a71",
   "metadata": {},
   "outputs": [],
   "source": [
    "ratings['count'] = movie['title'].value_counts()"
   ]
  },
  {
   "cell_type": "code",
   "execution_count": null,
   "id": "5c4c507e-dac1-4b75-bf39-ba8cce564eef",
   "metadata": {},
   "outputs": [],
   "source": [
    "rating,head(20)"
   ]
  },
  {
   "cell_type": "code",
   "execution_count": null,
   "id": "6ba3691f-be3b-4f1f-ba0c-ac97ae0cde08",
   "metadata": {},
   "outputs": [],
   "source": [
    "ratings.sort_value(by='count',ascending=False).head(20)"
   ]
  },
  {
   "cell_type": "raw",
   "id": "cb96e615-f03c-4858-8e35-fb30789ae182",
   "metadata": {},
   "source": []
  },
  {
   "cell_type": "code",
   "execution_count": null,
   "id": "55f3d2f5-1bb2-4a99-9cd7-7e38dd55e3f0",
   "metadata": {},
   "outputs": [],
   "source": [
    "movie_pivot = movie.pivot_table(index = 'user_id',columns = 'title',values = 'rating')"
   ]
  },
  {
   "cell_type": "code",
   "execution_count": null,
   "id": "5cba4c7e-6e19-43b0-8cda-97fb990e24dc",
   "metadata": {},
   "outputs": [],
   "source": [
    "movie_pivot.head()"
   ]
  },
  {
   "cell_type": "code",
   "execution_count": null,
   "id": "4aa918fd-322d-4690-a509-93ef0ca4913f",
   "metadata": {},
   "outputs": [],
   "source": [
    "movie_selected = 'Star Wars (1977)'"
   ]
  },
  {
   "cell_type": "code",
   "execution_count": null,
   "id": "9235afd7-e060-4fe0-b35b-074bdcbe2130",
   "metadata": {},
   "outputs": [],
   "source": [
    "ms_rates = movie_pivot[movie_selected]\n",
    "ms_rates.head()"
   ]
  },
  {
   "cell_type": "code",
   "execution_count": null,
   "id": "1805e405-70d9-4924-a939-10c642d55034",
   "metadata": {},
   "outputs": [],
   "source": [
    "ms_rates.head()"
   ]
  },
  {
   "cell_type": "code",
   "execution_count": null,
   "id": "6f49ac22-f82b-44a9-a59d-d64762297da5",
   "metadata": {},
   "outputs": [],
   "source": [
    "import warnings\n",
    "warnings.filterwarnings('ignore')"
   ]
  },
  {
   "cell_type": "code",
   "execution_count": null,
   "id": "b056d3ef-7963-432c-8e6f-15ebfb2e9ece",
   "metadata": {},
   "outputs": [],
   "source": [
    "corrs = movie_pivot.corrwith(ms_rates)\n",
    "corrs.head(20)"
   ]
  },
  {
   "cell_type": "markdown",
   "id": "58ffa8b2-009c-4a19-8427-c55f674236fa",
   "metadata": {},
   "source": [
    "corrs.sort_values(ascending=False).head(20)"
   ]
  },
  {
   "cell_type": "code",
   "execution_count": null,
   "id": "fe0ff5f1-b0fc-470f-9f9c-46a95cab278a",
   "metadata": {},
   "outputs": [],
   "source": [
    "corrs.sort_values(ascending=False).head(20)"
   ]
  },
  {
   "cell_type": "code",
   "execution_count": null,
   "id": "0d63bc72-92e0-4949-9340-b4d92c30d902",
   "metadata": {},
   "outputs": [],
   "source": [
    "corrs_df = pd.DataFrame(corrs , columns= ['Correlation'])\n",
    "corrs_df.head()"
   ]
  },
  {
   "cell_type": "code",
   "execution_count": null,
   "id": "bd0b4aef-8559-4e31-b690-5400e6e2d53d",
   "metadata": {},
   "outputs": [],
   "source": [
    "corrs_df['rating'] = ratings['rating']\n",
    "corrs_df['count'] = ratings['count']"
   ]
  },
  {
   "cell_type": "code",
   "execution_count": null,
   "id": "9f73b912-c4d4-4b68-9f48-cd187fcc332e",
   "metadata": {},
   "outputs": [],
   "source": [
    "corrs_df.head()"
   ]
  },
  {
   "cell_type": "code",
   "execution_count": null,
   "id": "a9f65bac-dfcd-4348-a42d-8144d16a35cf",
   "metadata": {},
   "outputs": [],
   "source": [
    "corrs_df[corrs_df['count']>50].sort_values(by='Correlation',ascending=False).head(10)"
   ]
  },
  {
   "cell_type": "code",
   "execution_count": null,
   "id": "8a182158-07b7-4f98-a148-8ba30356326b",
   "metadata": {},
   "outputs": [],
   "source": [
    "top_recom =list(corrs_df[corrs_df['count']>50].sort_values(by='Correlation',ascending=False).head(3).index)"
   ]
  },
  {
   "cell_type": "code",
   "execution_count": null,
   "id": "84a58a6f-5ee0-42d4-a467-a07fbdf450f8",
   "metadata": {},
   "outputs": [],
   "source": [
    "top_recom.remove(movie_selected)"
   ]
  },
  {
   "cell_type": "code",
   "execution_count": null,
   "id": "25702327-3fd0-485c-870d-3e3265f337ce",
   "metadata": {},
   "outputs": [],
   "source": [
    "top_recom"
   ]
  },
  {
   "cell_type": "code",
   "execution_count": null,
   "id": "cf40b712-a17a-4bc4-b5e3-dcbfd5d3c97a",
   "metadata": {},
   "outputs": [],
   "source": [
    "movie_selected"
   ]
  },
  {
   "cell_type": "code",
   "execution_count": null,
   "id": "ac2a96df-15e7-4955-b5b1-009dff393104",
   "metadata": {},
   "outputs": [],
   "source": [
    "import pandas as pd\n",
    "import warnings\n",
    "warnings.filterwarnings('ignore')\n",
    "\n",
    "def movie_recommend(movie_selected = 'Star Wars (1977)'):\n",
    "    \n",
    "    #Read files\n",
    "    \n",
    "    cols = ['user_id','movie_id','rating','ts']\n",
    "    df = pd.read_csv('u.data',sep='\\t',names=cols).drop('ts',axis=1)\n",
    "    item_cols = ['movie_id','title']+[str(i) for i in range(22)]\n",
    "    df1 = pd.read_csv('u.item',sep='|',encoding = 'ISO-8859-1',names=item_cols)[['movie_id','title']]\n",
    "\n",
    "       # Merge the Data Frame\n",
    "    movie=pd.merge(df,df1,on='movie_id')\n",
    "\n",
    "       #Create Pivot Table\n",
    "    movie_pivot = movie.pivot_table(index = 'user_id',columns = 'title',values = 'rating')\n",
    "    #find similarities\n",
    "    corrs=movie_pivot.corrwith(movie_pivot[movie_selected])\n",
    "    corrs_df=pd.DataFrame(corrs, columns=['Correlation'])\n",
    "    corrs_df['rating']=movie.groupby('title')['rating'].mean()\n",
    "    corrs_df['count']=movie['title'].value_counts()\n",
    "    #find top 2-3 recommendations\n",
    "    top_recom =list(corrs_df[corrs_df['count']>50].sort_values(by='Correlation',ascending=False).head(3).index)\n",
    "    top_recom.remove(movie_selected)\n",
    "    \n",
    "    return top_recom\n",
    "        \n",
    "    \n",
    "    "
   ]
  },
  {
   "cell_type": "code",
   "execution_count": null,
   "id": "d4be7d03-201b-4750-bdcc-88aac456afea",
   "metadata": {},
   "outputs": [],
   "source": [
    "movie_recommend()"
   ]
  },
  {
   "cell_type": "code",
   "execution_count": null,
   "id": "5b215eed-8701-42aa-adef-e4f32b7521d8",
   "metadata": {},
   "outputs": [],
   "source": []
  }
 ],
 "metadata": {
  "kernelspec": {
   "display_name": "Python 3 (ipykernel)",
   "language": "python",
   "name": "python3"
  },
  "language_info": {
   "codemirror_mode": {
    "name": "ipython",
    "version": 3
   },
   "file_extension": ".py",
   "mimetype": "text/x-python",
   "name": "python",
   "nbconvert_exporter": "python",
   "pygments_lexer": "ipython3",
   "version": "3.9.12"
  }
 },
 "nbformat": 4,
 "nbformat_minor": 5
}
